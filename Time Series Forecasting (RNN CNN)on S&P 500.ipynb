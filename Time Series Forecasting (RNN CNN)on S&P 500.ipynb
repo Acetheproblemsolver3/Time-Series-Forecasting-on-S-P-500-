{
 "cells": [
  {
   "cell_type": "code",
   "execution_count": 1,
   "id": "72fc188e",
   "metadata": {},
   "outputs": [],
   "source": [
    "import os "
   ]
  },
  {
   "cell_type": "code",
   "execution_count": null,
   "id": "cd0a0932",
   "metadata": {},
   "outputs": [],
   "source": [
    "print(os.getcwd())"
   ]
  },
  {
   "cell_type": "code",
   "execution_count": 3,
   "id": "857b0fa3",
   "metadata": {},
   "outputs": [],
   "source": [
    "os.chdir(r'F:\\Yahootsf')"
   ]
  },
  {
   "cell_type": "markdown",
   "id": "9b23c40a",
   "metadata": {},
   "source": [
    "<u><b>Data Wrangling and Exploration</b></u>\n",
    "\n",
    "<br>The data has several potential columns for us to use for forecasting:</br>\n",
    "\n",
    "<br><b><u>Open</u></b>: the opening value of the index on that day</br>\n",
    "<br><b><u>High</u></b>: the highest value of the index on that day</br>\n",
    "<br><b><u>Low</u></b>: the lowest value of the index on that day</br>\n",
    "<br><b><u>Close</u></b>: the closing value of the index on that day</br>\n",
    "<br><b><u>Volume</u></b>: the total volume of the index traded on that day</br>\n",
    "<br><b><u>Adj Close</u></b>: the closing value of the index on that day adjusted for dividends</br>"
   ]
  },
  {
   "cell_type": "markdown",
   "id": "9c6a5534",
   "metadata": {},
   "source": [
    "Lets read the Dataset using Pandas to have an idea about our Dataset"
   ]
  },
  {
   "cell_type": "code",
   "execution_count": 4,
   "id": "654c8a4e",
   "metadata": {},
   "outputs": [],
   "source": [
    "import pandas as pd"
   ]
  },
  {
   "cell_type": "code",
   "execution_count": 5,
   "id": "886fe4f9",
   "metadata": {},
   "outputs": [],
   "source": [
    "df = pd.read_csv('yahoo_stock.csv',index_col =0)\n",
    "df= df.sort_index()"
   ]
  },
  {
   "cell_type": "markdown",
   "id": "076285ec",
   "metadata": {},
   "source": [
    "Time series forecasting is about predicting how a target variable evolves over time by analyzing its past values. So for this model it is required that we change the Date column as our index sort it using <b>sort_index()</b> and remove the other columns apart from our target variable 'Adj Close'."
   ]
  },
  {
   "cell_type": "code",
   "execution_count": 6,
   "id": "b37adcc4",
   "metadata": {},
   "outputs": [
    {
     "data": {
      "text/html": [
       "<div>\n",
       "<style scoped>\n",
       "    .dataframe tbody tr th:only-of-type {\n",
       "        vertical-align: middle;\n",
       "    }\n",
       "\n",
       "    .dataframe tbody tr th {\n",
       "        vertical-align: top;\n",
       "    }\n",
       "\n",
       "    .dataframe thead th {\n",
       "        text-align: right;\n",
       "    }\n",
       "</style>\n",
       "<table border=\"1\" class=\"dataframe\">\n",
       "  <thead>\n",
       "    <tr style=\"text-align: right;\">\n",
       "      <th></th>\n",
       "      <th>High</th>\n",
       "      <th>Low</th>\n",
       "      <th>Open</th>\n",
       "      <th>Close</th>\n",
       "      <th>Volume</th>\n",
       "      <th>Adj Close</th>\n",
       "    </tr>\n",
       "    <tr>\n",
       "      <th>Date</th>\n",
       "      <th></th>\n",
       "      <th></th>\n",
       "      <th></th>\n",
       "      <th></th>\n",
       "      <th></th>\n",
       "      <th></th>\n",
       "    </tr>\n",
       "  </thead>\n",
       "  <tbody>\n",
       "    <tr>\n",
       "      <th>2015-11-23</th>\n",
       "      <td>2095.610107</td>\n",
       "      <td>2081.389893</td>\n",
       "      <td>2089.409912</td>\n",
       "      <td>2086.590088</td>\n",
       "      <td>3.587980e+09</td>\n",
       "      <td>2086.590088</td>\n",
       "    </tr>\n",
       "    <tr>\n",
       "      <th>2015-11-24</th>\n",
       "      <td>2094.120117</td>\n",
       "      <td>2070.290039</td>\n",
       "      <td>2084.419922</td>\n",
       "      <td>2089.139893</td>\n",
       "      <td>3.884930e+09</td>\n",
       "      <td>2089.139893</td>\n",
       "    </tr>\n",
       "    <tr>\n",
       "      <th>2015-11-25</th>\n",
       "      <td>2093.000000</td>\n",
       "      <td>2086.300049</td>\n",
       "      <td>2089.300049</td>\n",
       "      <td>2088.870117</td>\n",
       "      <td>2.852940e+09</td>\n",
       "      <td>2088.870117</td>\n",
       "    </tr>\n",
       "    <tr>\n",
       "      <th>2015-11-26</th>\n",
       "      <td>2093.000000</td>\n",
       "      <td>2086.300049</td>\n",
       "      <td>2089.300049</td>\n",
       "      <td>2088.870117</td>\n",
       "      <td>2.852940e+09</td>\n",
       "      <td>2088.870117</td>\n",
       "    </tr>\n",
       "    <tr>\n",
       "      <th>2015-11-27</th>\n",
       "      <td>2093.290039</td>\n",
       "      <td>2084.129883</td>\n",
       "      <td>2088.820068</td>\n",
       "      <td>2090.110107</td>\n",
       "      <td>1.466840e+09</td>\n",
       "      <td>2090.110107</td>\n",
       "    </tr>\n",
       "  </tbody>\n",
       "</table>\n",
       "</div>"
      ],
      "text/plain": [
       "                   High          Low         Open        Close        Volume  \\\n",
       "Date                                                                           \n",
       "2015-11-23  2095.610107  2081.389893  2089.409912  2086.590088  3.587980e+09   \n",
       "2015-11-24  2094.120117  2070.290039  2084.419922  2089.139893  3.884930e+09   \n",
       "2015-11-25  2093.000000  2086.300049  2089.300049  2088.870117  2.852940e+09   \n",
       "2015-11-26  2093.000000  2086.300049  2089.300049  2088.870117  2.852940e+09   \n",
       "2015-11-27  2093.290039  2084.129883  2088.820068  2090.110107  1.466840e+09   \n",
       "\n",
       "              Adj Close  \n",
       "Date                     \n",
       "2015-11-23  2086.590088  \n",
       "2015-11-24  2089.139893  \n",
       "2015-11-25  2088.870117  \n",
       "2015-11-26  2088.870117  \n",
       "2015-11-27  2090.110107  "
      ]
     },
     "execution_count": 6,
     "metadata": {},
     "output_type": "execute_result"
    }
   ],
   "source": [
    "df.head(5)"
   ]
  },
  {
   "cell_type": "code",
   "execution_count": 7,
   "id": "4818ba63",
   "metadata": {},
   "outputs": [],
   "source": [
    "df =df.drop(['Close','Open','High','Low','Volume'],axis =1)"
   ]
  },
  {
   "cell_type": "code",
   "execution_count": null,
   "id": "e51af152",
   "metadata": {},
   "outputs": [
    {
     "data": {
      "text/html": [
       "<div>\n",
       "<style scoped>\n",
       "    .dataframe tbody tr th:only-of-type {\n",
       "        vertical-align: middle;\n",
       "    }\n",
       "\n",
       "    .dataframe tbody tr th {\n",
       "        vertical-align: top;\n",
       "    }\n",
       "\n",
       "    .dataframe thead th {\n",
       "        text-align: right;\n",
       "    }\n",
       "</style>\n",
       "<table border=\"1\" class=\"dataframe\">\n",
       "  <thead>\n",
       "    <tr style=\"text-align: right;\">\n",
       "      <th></th>\n",
       "      <th>Adj Close</th>\n",
       "    </tr>\n",
       "    <tr>\n",
       "      <th>Date</th>\n",
       "      <th></th>\n",
       "    </tr>\n",
       "  </thead>\n",
       "  <tbody>\n",
       "    <tr>\n",
       "      <th>2015-11-23</th>\n",
       "      <td>2086.590088</td>\n",
       "    </tr>\n",
       "    <tr>\n",
       "      <th>2015-11-24</th>\n",
       "      <td>2089.139893</td>\n",
       "    </tr>\n",
       "    <tr>\n",
       "      <th>2015-11-25</th>\n",
       "      <td>2088.870117</td>\n",
       "    </tr>\n",
       "    <tr>\n",
       "      <th>2015-11-26</th>\n",
       "      <td>2088.870117</td>\n",
       "    </tr>\n",
       "    <tr>\n",
       "      <th>2015-11-27</th>\n",
       "      <td>2090.110107</td>\n",
       "    </tr>\n",
       "  </tbody>\n",
       "</table>\n",
       "</div>"
      ],
      "text/plain": [
       "              Adj Close\n",
       "Date                   \n",
       "2015-11-23  2086.590088\n",
       "2015-11-24  2089.139893\n",
       "2015-11-25  2088.870117\n",
       "2015-11-26  2088.870117\n",
       "2015-11-27  2090.110107"
      ]
     },
     "execution_count": 8,
     "metadata": {},
     "output_type": "execute_result"
    }
   ],
   "source": [
    "df.head() #sanity check"
   ]
  },
  {
   "cell_type": "markdown",
   "id": "68272d65",
   "metadata": {},
   "source": [
    "We have removed all the columns from the dataset except for our Target variable using the Drop method . Now we should explore this Feature for Cleaning & preprocessing , Scaling and Windowing. First lets check for any missing values."
   ]
  },
  {
   "cell_type": "code",
   "execution_count": 9,
   "id": "4b4dffb2",
   "metadata": {},
   "outputs": [
    {
     "data": {
      "text/plain": [
       "Adj Close    0\n",
       "dtype: int64"
      ]
     },
     "execution_count": 9,
     "metadata": {},
     "output_type": "execute_result"
    }
   ],
   "source": [
    "df.isnull().sum()"
   ]
  },
  {
   "cell_type": "markdown",
   "id": "b6b5d202",
   "metadata": {},
   "source": [
    "Fortunately, We dont have any missing values for our Adjusted Closing value feature . Lets visualize our Target Variable with respect to time to analyze the pattern. "
   ]
  },
  {
   "cell_type": "code",
   "execution_count": 10,
   "id": "bd6136f4",
   "metadata": {},
   "outputs": [
    {
     "data": {
      "image/png": "[encoded data removed]",
      "text/plain": [
       "<Figure size 640x480 with 1 Axes>"
      ]
     },
     "metadata": {},
     "output_type": "display_data"
    }
   ],
   "source": [
    "import matplotlib.pyplot as plt \n",
    "import matplotlib.dates as mdates\n",
    "\n",
    "plt.plot(df)\n",
    "\n",
    "plt.title('S&P 500 Index')\n",
    "plt.xlabel('Date')\n",
    "plt.xticks(rotation = 45)\n",
    "plt.gca().xaxis.set_major_locator(mdates.YearLocator())\n",
    "plt.gcf().autofmt_xdate()\n",
    "plt.ylabel('Adjusted Close')\n",
    "plt.show()\n"
   ]
  },
  {
   "cell_type": "markdown",
   "id": "e321e846",
   "metadata": {},
   "source": [
    "The plot is looking great! We can see that we have data from about five years to work with. There are no gaps, and there are some visible dips and spikes.\n",
    "We can see that the Adjusted Closing feature which was already prepared for the purpose of Dividends shows us that , at every start of the year the index goes down (Some years a slight decrease and a drastic fall on the other years) and gradually increases before next year.<br> While this visualization gives us a perfect feeling to deploy an RNN model , We need to preprocess , scale and window it . Lets try Split our Data starting from the very earliest to the next 60% of the total length of Data to Training , the next 20% to Validation and the rest 20 to our Test set. Why we do this manually instead of using Train_test_split ? The answer is very simple: since we are doing a Time-series forecasting , We must assign the earliest historical data to the training set and reserve the later portions for validation set and test set .This ensures that the model is evaluated on truly unseen future data. </br>"
   ]
  },
  {
   "cell_type": "markdown",
   "id": "8bae6faf",
   "metadata": {},
   "source": [
    "<b><u>Data Pre-processing </u></b>"
   ]
  },
  {
   "cell_type": "markdown",
   "id": "79c731f8",
   "metadata": {},
   "source": [
    "We need to do 2 things with our raw data inorder make it ready for an RNN . \n",
    "1) Split the Data - This can be done manually by us 60% - Training , 20%-Validation , the last 20% - test\n",
    "2) Normalize the Data and ensure the values are between 0 and 1 using the scaler from Sklearn Library ."
   ]
  },
  {
   "cell_type": "code",
   "execution_count": 11,
   "id": "d171bbe3",
   "metadata": {},
   "outputs": [],
   "source": [
    "n = len(df)\n",
    "train_end = int(0.6 * n)\n",
    "val_end = int(0.8 * n)\n",
    "train = df.iloc[:train_end]\n",
    "val = df.iloc[train_end:val_end]\n",
    "test = df.iloc[val_end:]\n",
    "\n",
    "from sklearn.preprocessing import MinMaxScaler\n",
    "scaler = MinMaxScaler()\n",
    "\n",
    "scaler.fit(train)\n",
    "\n",
    "train = pd.DataFrame(scaler.transform(train),columns = ['Adj Close'], index = train.index)\n",
    "val = pd.DataFrame(scaler.transform(val),columns = ['Adj Close'],index = val.index)\n",
    "test = pd.DataFrame(scaler.transform(test),columns = ['Adj Close'],index = test.index)"
   ]
  },
  {
   "cell_type": "markdown",
   "id": "1bec5d1d",
   "metadata": {},
   "source": [
    "Now that we have splitted and scaled our data its time for us to split this data between X and y . this can be done defining a helper function which takes a Dataset and a window_size as an argument and append the window to the X and the target to the y, returning us the arrays of X and y  . The function can be written as follows:"
   ]
  },
  {
   "cell_type": "code",
   "execution_count": 12,
   "id": "6b10fc0f",
   "metadata": {},
   "outputs": [],
   "source": [
    "import numpy as np\n",
    "\n",
    "\n",
    "def create_dataset(orig_dataset ,window_size = 1):\n",
    "    data_x , data_y = [],[]\n",
    "    for i in range(len(orig_dataset)- window_size -1):\n",
    "        window = orig_dataset.iloc[i :(i+window_size),0]\n",
    "        target = orig_dataset.iloc[i+window_size,0]\n",
    "        data_x.append(window)\n",
    "        data_y.append(target)\n",
    "    return np.array(data_x),np.array(data_y)\n"
   ]
  },
  {
   "cell_type": "markdown",
   "id": "085eebb6",
   "metadata": {},
   "source": [
    "Now that we have defined the helper function , Lets make use of it to split between X_train , y_train from train , X_val , y_val from Val and X_test, y_test from the test set . Also it is important for us to reshape them into 3d arrays to make it suitable for an RNN model or a  CNN model or both combined ."
   ]
  },
  {
   "cell_type": "code",
   "execution_count": 13,
   "id": "655d8748",
   "metadata": {},
   "outputs": [],
   "source": [
    "import numpy as np \n",
    "window_size = 10 \n",
    "\n",
    "X_train,y_train = create_dataset(train,window_size )\n",
    "X_val,y_val = create_dataset(val , window_size)\n",
    "X_test,y_test = create_dataset(test, window_size)\n",
    "\n",
    "X_train = np.reshape(X_train ,( X_train.shape[0],1,X_train.shape[1]))\n",
    "X_val = np.reshape(X_val, (X_val.shape[0],1,X_val.shape[1]))\n",
    "X_test = np.reshape(X_test,(X_test.shape[0],1,X_test.shape[1]))\n"
   ]
  },
  {
   "cell_type": "markdown",
   "id": "bb9ce73e",
   "metadata": {},
   "source": [
    "Lets build a normal model to ensure everything's perfect So that we can have our shift our mindset to Optimizing. "
   ]
  },
  {
   "cell_type": "code",
   "execution_count": null,
   "id": "4a026167",
   "metadata": {},
   "outputs": [],
   "source": [
    "import tensorflow as tf\n",
    "from tensorflow.keras import layers # type: ignore\n",
    "\n",
    "model = tf.keras.Sequential()\n",
    "model.add(layers.LSTM(10 , input_shape =(1,window_size)))\n",
    "model.add(layers.Dense(5 , activation = 'relu'))\n",
    "model.add(layers.Dense(1))\n",
    "model.compile(optimizer = 'adam',loss = 'mean_squared_error')\n",
    "model.summary()"
   ]
  },
  {
   "cell_type": "code",
   "execution_count": 15,
   "id": "81944629",
   "metadata": {},
   "outputs": [
    {
     "name": "stdout",
     "output_type": "stream",
     "text": [
      "Epoch 1/10\n",
      "\u001b[1m34/34\u001b[0m \u001b[32m━━━━━━━━━━━━━━━━━━━━\u001b[0m\u001b[37m\u001b[0m \u001b[1m2s\u001b[0m 3ms/step - loss: 0.3748\n",
      "Epoch 2/10\n",
      "\u001b[1m34/34\u001b[0m \u001b[32m━━━━━━━━━━━━━━━━━━━━\u001b[0m\u001b[37m\u001b[0m \u001b[1m0s\u001b[0m 3ms/step - loss: 0.3003\n",
      "Epoch 3/10\n",
      "\u001b[1m34/34\u001b[0m \u001b[32m━━━━━━━━━━━━━━━━━━━━\u001b[0m\u001b[37m\u001b[0m \u001b[1m0s\u001b[0m 3ms/step - loss: 0.2488\n",
      "Epoch 4/10\n",
      "\u001b[1m34/34\u001b[0m \u001b[32m━━━━━━━━━━━━━━━━━━━━\u001b[0m\u001b[37m\u001b[0m \u001b[1m0s\u001b[0m 3ms/step - loss: 0.1675\n",
      "Epoch 5/10\n",
      "\u001b[1m34/34\u001b[0m \u001b[32m━━━━━━━━━━━━━━━━━━━━\u001b[0m\u001b[37m\u001b[0m \u001b[1m0s\u001b[0m 3ms/step - loss: 0.0805\n",
      "Epoch 6/10\n",
      "\u001b[1m34/34\u001b[0m \u001b[32m━━━━━━━━━━━━━━━━━━━━\u001b[0m\u001b[37m\u001b[0m \u001b[1m0s\u001b[0m 3ms/step - loss: 0.0304\n",
      "Epoch 7/10\n",
      "\u001b[1m34/34\u001b[0m \u001b[32m━━━━━━━━━━━━━━━━━━━━\u001b[0m\u001b[37m\u001b[0m \u001b[1m0s\u001b[0m 4ms/step - loss: 0.0186\n",
      "Epoch 8/10\n",
      "\u001b[1m34/34\u001b[0m \u001b[32m━━━━━━━━━━━━━━━━━━━━\u001b[0m\u001b[37m\u001b[0m \u001b[1m0s\u001b[0m 3ms/step - loss: 0.0161\n",
      "Epoch 9/10\n",
      "\u001b[1m34/34\u001b[0m \u001b[32m━━━━━━━━━━━━━━━━━━━━\u001b[0m\u001b[37m\u001b[0m \u001b[1m0s\u001b[0m 3ms/step - loss: 0.0139\n",
      "Epoch 10/10\n",
      "\u001b[1m34/34\u001b[0m \u001b[32m━━━━━━━━━━━━━━━━━━━━\u001b[0m\u001b[37m\u001b[0m \u001b[1m0s\u001b[0m 3ms/step - loss: 0.0118\n"
     ]
    },
    {
     "data": {
      "text/plain": [
       "<keras.src.callbacks.history.History at 0x206e5d31010>"
      ]
     },
     "execution_count": 15,
     "metadata": {},
     "output_type": "execute_result"
    }
   ],
   "source": [
    "model.fit(X_train,y_train, epochs = 10)\n"
   ]
  },
  {
   "cell_type": "code",
   "execution_count": 16,
   "id": "fdc7278d",
   "metadata": {},
   "outputs": [
    {
     "name": "stdout",
     "output_type": "stream",
     "text": [
      "\u001b[1m12/12\u001b[0m \u001b[32m━━━━━━━━━━━━━━━━━━━━\u001b[0m\u001b[37m\u001b[0m \u001b[1m0s\u001b[0m 20ms/step\n",
      "-0.16089402066476755\n"
     ]
    }
   ],
   "source": [
    "from sklearn.metrics import r2_score\n",
    "y_pred = model.predict(X_val)\n",
    "print(r2_score(y_val,y_pred))"
   ]
  },
  {
   "cell_type": "markdown",
   "id": "23e42286",
   "metadata": {},
   "source": [
    "We can see after fitting the a simpleRNN model that doesnt memorize like the LongShortTermMmemory (LSTM) or Gated recurrent units(GRU) , we have a negative r2_score which says we have a lot of optimization to do with our model. Lets try building a LSTM model and try adding a CNN ie ., a 1D convolutional layer, and also adding or removing layers , increasing or decreasing the number of nodes , using different optimizers and loss functions to achieve a better performance . "
   ]
  },
  {
   "cell_type": "code",
   "execution_count": null,
   "id": "0184fb42",
   "metadata": {},
   "outputs": [],
   "source": [
    "window_size = 10\n",
    "model = tf.keras.Sequential()\n",
    "model.add(layers.Conv1D(filters = 128,kernel_size = 1 ,input_shape = (1,window_size)))\n",
    "model.add(layers.MaxPooling1D(1))\n",
    "model.add(layers.LSTM(64, activation = 'relu'))\n",
    "model.add(layers.Dense(32 , activation = 'relu'))\n",
    "model.add(layers.Dense(1))\n",
    "model.compile(optimizer = 'adam',loss = 'mean_squared_error')\n",
    "model.summary()"
   ]
  },
  {
   "cell_type": "code",
   "execution_count": 23,
   "id": "4c05c633",
   "metadata": {},
   "outputs": [
    {
     "name": "stdout",
     "output_type": "stream",
     "text": [
      "Epoch 1/40\n",
      "\u001b[1m34/34\u001b[0m \u001b[32m━━━━━━━━━━━━━━━━━━━━\u001b[0m\u001b[37m\u001b[0m \u001b[1m3s\u001b[0m 5ms/step - loss: 0.0407\n",
      "Epoch 2/40\n",
      "\u001b[1m34/34\u001b[0m \u001b[32m━━━━━━━━━━━━━━━━━━━━\u001b[0m\u001b[37m\u001b[0m \u001b[1m0s\u001b[0m 5ms/step - loss: 0.0016\n",
      "Epoch 3/40\n",
      "\u001b[1m34/34\u001b[0m \u001b[32m━━━━━━━━━━━━━━━━━━━━\u001b[0m\u001b[37m\u001b[0m \u001b[1m0s\u001b[0m 4ms/step - loss: 9.9918e-04\n",
      "Epoch 4/40\n",
      "\u001b[1m34/34\u001b[0m \u001b[32m━━━━━━━━━━━━━━━━━━━━\u001b[0m\u001b[37m\u001b[0m \u001b[1m0s\u001b[0m 5ms/step - loss: 8.1372e-04\n",
      "Epoch 5/40\n",
      "\u001b[1m34/34\u001b[0m \u001b[32m━━━━━━━━━━━━━━━━━━━━\u001b[0m\u001b[37m\u001b[0m \u001b[1m0s\u001b[0m 5ms/step - loss: 6.5497e-04\n",
      "Epoch 6/40\n",
      "\u001b[1m34/34\u001b[0m \u001b[32m━━━━━━━━━━━━━━━━━━━━\u001b[0m\u001b[37m\u001b[0m \u001b[1m0s\u001b[0m 4ms/step - loss: 5.1438e-04\n",
      "Epoch 7/40\n",
      "\u001b[1m34/34\u001b[0m \u001b[32m━━━━━━━━━━━━━━━━━━━━\u001b[0m\u001b[37m\u001b[0m \u001b[1m0s\u001b[0m 4ms/step - loss: 3.9907e-04\n",
      "Epoch 8/40\n",
      "\u001b[1m34/34\u001b[0m \u001b[32m━━━━━━━━━━━━━━━━━━━━\u001b[0m\u001b[37m\u001b[0m \u001b[1m0s\u001b[0m 4ms/step - loss: 3.8923e-04\n",
      "Epoch 9/40\n",
      "\u001b[1m34/34\u001b[0m \u001b[32m━━━━━━━━━━━━━━━━━━━━\u001b[0m\u001b[37m\u001b[0m \u001b[1m0s\u001b[0m 5ms/step - loss: 3.2767e-04\n",
      "Epoch 10/40\n",
      "\u001b[1m34/34\u001b[0m \u001b[32m━━━━━━━━━━━━━━━━━━━━\u001b[0m\u001b[37m\u001b[0m \u001b[1m0s\u001b[0m 7ms/step - loss: 3.4269e-04\n",
      "Epoch 11/40\n",
      "\u001b[1m34/34\u001b[0m \u001b[32m━━━━━━━━━━━━━━━━━━━━\u001b[0m\u001b[37m\u001b[0m \u001b[1m0s\u001b[0m 5ms/step - loss: 3.8262e-04\n",
      "Epoch 12/40\n",
      "\u001b[1m34/34\u001b[0m \u001b[32m━━━━━━━━━━━━━━━━━━━━\u001b[0m\u001b[37m\u001b[0m \u001b[1m0s\u001b[0m 4ms/step - loss: 3.3927e-04\n",
      "Epoch 13/40\n",
      "\u001b[1m34/34\u001b[0m \u001b[32m━━━━━━━━━━━━━━━━━━━━\u001b[0m\u001b[37m\u001b[0m \u001b[1m0s\u001b[0m 4ms/step - loss: 3.2201e-04\n",
      "Epoch 14/40\n",
      "\u001b[1m34/34\u001b[0m \u001b[32m━━━━━━━━━━━━━━━━━━━━\u001b[0m\u001b[37m\u001b[0m \u001b[1m0s\u001b[0m 4ms/step - loss: 2.8525e-04\n",
      "Epoch 15/40\n",
      "\u001b[1m34/34\u001b[0m \u001b[32m━━━━━━━━━━━━━━━━━━━━\u001b[0m\u001b[37m\u001b[0m \u001b[1m0s\u001b[0m 4ms/step - loss: 2.8054e-04\n",
      "Epoch 16/40\n",
      "\u001b[1m34/34\u001b[0m \u001b[32m━━━━━━━━━━━━━━━━━━━━\u001b[0m\u001b[37m\u001b[0m \u001b[1m0s\u001b[0m 4ms/step - loss: 3.2423e-04\n",
      "Epoch 17/40\n",
      "\u001b[1m34/34\u001b[0m \u001b[32m━━━━━━━━━━━━━━━━━━━━\u001b[0m\u001b[37m\u001b[0m \u001b[1m0s\u001b[0m 5ms/step - loss: 3.2295e-04\n",
      "Epoch 18/40\n",
      "\u001b[1m34/34\u001b[0m \u001b[32m━━━━━━━━━━━━━━━━━━━━\u001b[0m\u001b[37m\u001b[0m \u001b[1m0s\u001b[0m 4ms/step - loss: 2.8318e-04\n",
      "Epoch 19/40\n",
      "\u001b[1m34/34\u001b[0m \u001b[32m━━━━━━━━━━━━━━━━━━━━\u001b[0m\u001b[37m\u001b[0m \u001b[1m0s\u001b[0m 5ms/step - loss: 2.8738e-04\n",
      "Epoch 20/40\n",
      "\u001b[1m34/34\u001b[0m \u001b[32m━━━━━━━━━━━━━━━━━━━━\u001b[0m\u001b[37m\u001b[0m \u001b[1m0s\u001b[0m 4ms/step - loss: 2.9466e-04\n",
      "Epoch 21/40\n",
      "\u001b[1m34/34\u001b[0m \u001b[32m━━━━━━━━━━━━━━━━━━━━\u001b[0m\u001b[37m\u001b[0m \u001b[1m0s\u001b[0m 4ms/step - loss: 2.6060e-04\n",
      "Epoch 22/40\n",
      "\u001b[1m34/34\u001b[0m \u001b[32m━━━━━━━━━━━━━━━━━━━━\u001b[0m\u001b[37m\u001b[0m \u001b[1m0s\u001b[0m 4ms/step - loss: 2.8194e-04\n",
      "Epoch 23/40\n",
      "\u001b[1m34/34\u001b[0m \u001b[32m━━━━━━━━━━━━━━━━━━━━\u001b[0m\u001b[37m\u001b[0m \u001b[1m0s\u001b[0m 4ms/step - loss: 2.7805e-04\n",
      "Epoch 24/40\n",
      "\u001b[1m34/34\u001b[0m \u001b[32m━━━━━━━━━━━━━━━━━━━━\u001b[0m\u001b[37m\u001b[0m \u001b[1m0s\u001b[0m 4ms/step - loss: 2.7011e-04\n",
      "Epoch 25/40\n",
      "\u001b[1m34/34\u001b[0m \u001b[32m━━━━━━━━━━━━━━━━━━━━\u001b[0m\u001b[37m\u001b[0m \u001b[1m0s\u001b[0m 5ms/step - loss: 2.6528e-04\n",
      "Epoch 26/40\n",
      "\u001b[1m34/34\u001b[0m \u001b[32m━━━━━━━━━━━━━━━━━━━━\u001b[0m\u001b[37m\u001b[0m \u001b[1m0s\u001b[0m 5ms/step - loss: 2.7867e-04\n",
      "Epoch 27/40\n",
      "\u001b[1m34/34\u001b[0m \u001b[32m━━━━━━━━━━━━━━━━━━━━\u001b[0m\u001b[37m\u001b[0m \u001b[1m0s\u001b[0m 4ms/step - loss: 4.6070e-04\n",
      "Epoch 28/40\n",
      "\u001b[1m34/34\u001b[0m \u001b[32m━━━━━━━━━━━━━━━━━━━━\u001b[0m\u001b[37m\u001b[0m \u001b[1m0s\u001b[0m 4ms/step - loss: 3.1530e-04\n",
      "Epoch 29/40\n",
      "\u001b[1m34/34\u001b[0m \u001b[32m━━━━━━━━━━━━━━━━━━━━\u001b[0m\u001b[37m\u001b[0m \u001b[1m0s\u001b[0m 5ms/step - loss: 2.5691e-04\n",
      "Epoch 30/40\n",
      "\u001b[1m34/34\u001b[0m \u001b[32m━━━━━━━━━━━━━━━━━━━━\u001b[0m\u001b[37m\u001b[0m \u001b[1m0s\u001b[0m 5ms/step - loss: 2.5196e-04\n",
      "Epoch 31/40\n",
      "\u001b[1m34/34\u001b[0m \u001b[32m━━━━━━━━━━━━━━━━━━━━\u001b[0m\u001b[37m\u001b[0m \u001b[1m0s\u001b[0m 6ms/step - loss: 2.5151e-04\n",
      "Epoch 32/40\n",
      "\u001b[1m34/34\u001b[0m \u001b[32m━━━━━━━━━━━━━━━━━━━━\u001b[0m\u001b[37m\u001b[0m \u001b[1m0s\u001b[0m 5ms/step - loss: 2.9992e-04\n",
      "Epoch 33/40\n",
      "\u001b[1m34/34\u001b[0m \u001b[32m━━━━━━━━━━━━━━━━━━━━\u001b[0m\u001b[37m\u001b[0m \u001b[1m0s\u001b[0m 5ms/step - loss: 2.4469e-04\n",
      "Epoch 34/40\n",
      "\u001b[1m34/34\u001b[0m \u001b[32m━━━━━━━━━━━━━━━━━━━━\u001b[0m\u001b[37m\u001b[0m \u001b[1m0s\u001b[0m 4ms/step - loss: 2.8584e-04\n",
      "Epoch 35/40\n",
      "\u001b[1m34/34\u001b[0m \u001b[32m━━━━━━━━━━━━━━━━━━━━\u001b[0m\u001b[37m\u001b[0m \u001b[1m0s\u001b[0m 4ms/step - loss: 3.1939e-04\n",
      "Epoch 36/40\n",
      "\u001b[1m34/34\u001b[0m \u001b[32m━━━━━━━━━━━━━━━━━━━━\u001b[0m\u001b[37m\u001b[0m \u001b[1m0s\u001b[0m 4ms/step - loss: 2.5734e-04\n",
      "Epoch 37/40\n",
      "\u001b[1m34/34\u001b[0m \u001b[32m━━━━━━━━━━━━━━━━━━━━\u001b[0m\u001b[37m\u001b[0m \u001b[1m0s\u001b[0m 4ms/step - loss: 2.6248e-04\n",
      "Epoch 38/40\n",
      "\u001b[1m34/34\u001b[0m \u001b[32m━━━━━━━━━━━━━━━━━━━━\u001b[0m\u001b[37m\u001b[0m \u001b[1m0s\u001b[0m 5ms/step - loss: 2.6414e-04\n",
      "Epoch 39/40\n",
      "\u001b[1m34/34\u001b[0m \u001b[32m━━━━━━━━━━━━━━━━━━━━\u001b[0m\u001b[37m\u001b[0m \u001b[1m0s\u001b[0m 5ms/step - loss: 2.4131e-04\n",
      "Epoch 40/40\n",
      "\u001b[1m34/34\u001b[0m \u001b[32m━━━━━━━━━━━━━━━━━━━━\u001b[0m\u001b[37m\u001b[0m \u001b[1m0s\u001b[0m 4ms/step - loss: 2.7058e-04\n"
     ]
    },
    {
     "data": {
      "text/plain": [
       "<keras.src.callbacks.history.History at 0x206eed6c550>"
      ]
     },
     "execution_count": 23,
     "metadata": {},
     "output_type": "execute_result"
    }
   ],
   "source": [
    "model.fit(X_train,y_train,epochs = 40)"
   ]
  },
  {
   "cell_type": "code",
   "execution_count": 24,
   "id": "a4e244e0",
   "metadata": {},
   "outputs": [
    {
     "name": "stdout",
     "output_type": "stream",
     "text": [
      "\u001b[1m34/34\u001b[0m \u001b[32m━━━━━━━━━━━━━━━━━━━━\u001b[0m\u001b[37m\u001b[0m \u001b[1m0s\u001b[0m 8ms/step\n",
      "\u001b[1m12/12\u001b[0m \u001b[32m━━━━━━━━━━━━━━━━━━━━\u001b[0m\u001b[37m\u001b[0m \u001b[1m0s\u001b[0m 4ms/step \n",
      "\u001b[1m12/12\u001b[0m \u001b[32m━━━━━━━━━━━━━━━━━━━━\u001b[0m\u001b[37m\u001b[0m \u001b[1m0s\u001b[0m 4ms/step \n",
      "0.9959789601187466\n",
      "0.9749589863008734\n",
      "0.9614490323959186\n"
     ]
    }
   ],
   "source": [
    "train_pred = model.predict(X_train)\n",
    "val_pred = model.predict(X_val)\n",
    "test_pred = model.predict(X_test)\n",
    "\n",
    "print(r2_score(train_pred,y_train))\n",
    "print(r2_score(val_pred,y_val))\n",
    "print(r2_score(test_pred,y_test))"
   ]
  },
  {
   "cell_type": "markdown",
   "id": "f7eb7d4b",
   "metadata": {},
   "source": [
    "Just like we expected , our model built with LSTM with Conv1D layers , gaves us excellent results of r2_scores with 99% on the training set , 97% on the validation set and a whooping 96% on the test set .Lets Visualize our performance but before that, lets unscale and unwindow the preprocessing we did .Thankfully , we have <b>inverse_transform()</b> , just like fit and transform from the scalers in the Sklearn library to do this . "
   ]
  },
  {
   "cell_type": "code",
   "execution_count": 25,
   "id": "739d2c19",
   "metadata": {},
   "outputs": [],
   "source": [
    "train_pred = scaler.inverse_transform(train_pred)\n",
    "val_pred = scaler.inverse_transform(val_pred)\n",
    "test_pred = scaler.inverse_transform(test_pred)\n",
    "\n",
    "plot_train_pred = np.empty((len(df),1))\n",
    "plot_train_pred[:] = np.nan\n",
    "plot_train_pred[window_size:len(train_pred) + window_size, :] = train_pred\n",
    "\n",
    "plot_val_pred = np.empty((len(df),1))\n",
    "plot_val_pred[:] = np.nan\n",
    "plot_val_pred[len(train_pred) + (window_size*2) + 1 :len(train_pred) + len(val_pred) + (window_size*2) + 1,:] = val_pred \n",
    "\n",
    "plot_test_pred = np.empty((len(df),1))\n",
    "plot_test_pred[:] = np.nan\n",
    "plot_test_pred[len(train_pred) + len(val_pred) + (window_size * 3) + 2:len(df) - 1,:] = test_pred\n"
   ]
  },
  {
   "cell_type": "markdown",
   "id": "528338f5",
   "metadata": {},
   "source": [
    "Finally , Lets plot the unscaled and unwindowed data on top of the original data . "
   ]
  },
  {
   "cell_type": "code",
   "execution_count": 26,
   "id": "52f0071c",
   "metadata": {},
   "outputs": [
    {
     "data": {
      "image/png": "[encoded data removed]",
      "text/plain": [
       "<Figure size 640x480 with 1 Axes>"
      ]
     },
     "metadata": {},
     "output_type": "display_data"
    }
   ],
   "source": [
    "plt.plot(df , label = 'Orginal Data')\n",
    "\n",
    "\n",
    "plt.plot(plot_train_pred , label = 'Training Predictions')\n",
    "plt.plot(plot_val_pred,label = 'Validation Predictions')\n",
    "plt.plot(plot_test_pred, label = 'Test Predictions')\n",
    "\n",
    "plt.title('S&P 500 Index')\n",
    "plt.xlabel('Date')\n",
    "plt.xticks(rotation = 45)\n",
    "plt.gca().xaxis.set_major_locator(mdates.YearLocator())\n",
    "plt.gcf().autofmt_xdate()\n",
    "plt.ylabel('Adjusted Close')\n",
    "plt.legend()\n",
    "plt.show()"
   ]
  },
  {
   "cell_type": "markdown",
   "id": "fdb2c692",
   "metadata": {},
   "source": [
    "The visualization aligns well with the insights suggested by the R-squared score. However, the true evaluation of the model lies in forecasting future values and testing those predictions, potentially through simulated trades (“paper trading”). It is important to emphasize that this project is intended solely for Learning purposes. Financial markets are inherently complex and unpredictable; if accurate forecasting were straightforward, it would already be universally adopted. Therefore, the work presented here should be regarded as an exploration rather than investment advice."
   ]
  },
  {
   "cell_type": "markdown",
   "id": "19121d68",
   "metadata": {},
   "source": []
  }
 ],
 "metadata": {
  "kernelspec": {
   "display_name": "Python 3",
   "language": "python",
   "name": "python3"
  },
  "language_info": {
   "codemirror_mode": {
    "name": "ipython",
    "version": 3
   },
   "file_extension": ".py",
   "mimetype": "text/x-python",
   "name": "python",
   "nbconvert_exporter": "python",
   "pygments_lexer": "ipython3",
   "version": "3.13.3"
  }
 },
 "nbformat": 4,
 "nbformat_minor": 5
}
